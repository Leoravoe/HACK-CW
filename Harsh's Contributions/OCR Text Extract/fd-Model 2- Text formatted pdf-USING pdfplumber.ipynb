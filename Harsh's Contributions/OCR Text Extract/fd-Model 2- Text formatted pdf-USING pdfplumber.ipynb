{
 "cells": [
  {
   "cell_type": "code",
   "execution_count": 1,
   "metadata": {},
   "outputs": [],
   "source": [
    "import os\n",
    "\n",
    "import requests\n",
    "import pdfplumber"
   ]
  },
  {
   "cell_type": "code",
   "execution_count": 5,
   "metadata": {},
   "outputs": [],
   "source": [
    "#In case you want to download file from net , a pdf drive attachment or somtg \n",
    "def download_file(url):\n",
    "    local_filename = url.split('/')[-1]\n",
    "    \n",
    "    with requests.get(url) as r:\n",
    "        assert r.status_code == 200, f'error, status code is {r.status_code}'\n",
    "        with open(local_filename, 'wb') as f:\n",
    "            f.write(r.content)\n",
    "        \n",
    "    return local_filename"
   ]
  },
  {
   "cell_type": "code",
   "execution_count": 7,
   "metadata": {},
   "outputs": [],
   "source": [
    "sample_pdf=r\"D:\\Hackoff Mod\\Machine Learning.pdf\""
   ]
  },
  {
   "cell_type": "code",
   "execution_count": 8,
   "metadata": {},
   "outputs": [
    {
     "name": "stdout",
     "output_type": "stream",
     "text": [
      "Machine Learning \n",
      "  \n",
      "Machine Learning is the field of study that gives computers the capability to learn \n",
      "without being explicitly programmed. ML is one of the most exciting technologies that one \n",
      "would have ever come across. As it is evident from the name, it gives the computer that \n",
      "makes it more similar to humans: The ability to learn. Machine learning is actively being \n",
      "used today, perhaps in many more places than one would expect. \n",
      "Getting started with Machine Learning \n",
      "Last Updated: 11-05-2020 \n",
      "This article discusses the categories of machine learning problems, and terminologies \n",
      "used in the field of machine learning. \n",
      "Types of machine learning problems \n",
      "There are various ways to classify machine learning problems. Here, we discuss the most \n",
      "obvious ones. \n",
      "1. On basis of the nature of the learning “signal” or “feedback” available to a \n",
      "learning system \n",
      "•  Supervised learning: The computer is presented with example inputs and their \n",
      "desired outputs, given by a “teacher”, and the goal is to learn a general rule that \n",
      "maps inputs to outputs. The training process continues until the model achieves \n",
      "the desired level of accuracy on the training data. Some real-life examples are: \n",
      "•  Image Classification: You train with images/labels. Then in the \n",
      "future you give a new image expecting that the computer will \n",
      "recognize the new object. \n",
      "•  Market Prediction/Regression: You train the computer with \n",
      "historical market data and ask the computer to predict the new price \n",
      "in the future. \n",
      "•  Unsupervised learning: No labels are given to the learning algorithm, leaving it \n",
      "on its own to find structure in its input. It is used for clustering population in \n",
      "different groups. Unsupervised learning can be a goal in itself (discovering hidden \n",
      "patterns in data). \n",
      "•  Clustering: You ask the computer to separate similar data into \n",
      "clusters, this is essential in research and science. \n",
      "•  High Dimension Visualization: Use the computer to help us \n",
      "visualize high dimension data. \n",
      "•  Generative Models: After a model captures the probability \n",
      "distribution of your input data, it will be able to generate more data. \n",
      "This can be very useful to make your classifier more robust. \n",
      "A simple diagram which clears the concept of supervised and unsupervised learning is \n",
      "shown below: \n",
      "As you can see clearly, the data in supervised learning is labelled, where as data in \n",
      "unsupervised learning is unlabelled. \n",
      "•  Semi-supervised learning: Problems where you have a large amount of \n",
      "input data and only some of the data is labeled, are called semi-supervised \n",
      "learning problems. These problems sit in between both supervised and \n"
     ]
    }
   ],
   "source": [
    "with pdfplumber.open(sample_pdf) as pdf:\n",
    "    page = pdf.pages[0]\n",
    "    text = page.extract_text()\n",
    "    print(text)"
   ]
  },
  {
   "cell_type": "code",
   "execution_count": 9,
   "metadata": {},
   "outputs": [
    {
     "data": {
      "text/plain": [
       "['Machine Learning ',\n",
       " '  ',\n",
       " 'Machine Learning is the field of study that gives computers the capability to learn ',\n",
       " 'without being explicitly programmed. ML is one of the most exciting technologies that one ',\n",
       " 'would have ever come across. As it is evident from the name, it gives the computer that ',\n",
       " 'makes it more similar to humans: The ability to learn. Machine learning is actively being ',\n",
       " 'used today, perhaps in many more places than one would expect. ',\n",
       " 'Getting started with Machine Learning ',\n",
       " 'Last Updated: 11-05-2020 ',\n",
       " 'This article discusses the categories of machine learning problems, and terminologies ',\n",
       " 'used in the field of machine learning. ',\n",
       " 'Types of machine learning problems ',\n",
       " 'There are various ways to classify machine learning problems. Here, we discuss the most ',\n",
       " 'obvious ones. ',\n",
       " '1. On basis of the nature of the learning “signal” or “feedback” available to a ',\n",
       " 'learning system ',\n",
       " '•  Supervised learning: The computer is presented with example inputs and their ',\n",
       " 'desired outputs, given by a “teacher”, and the goal is to learn a general rule that ',\n",
       " 'maps inputs to outputs. The training process continues until the model achieves ',\n",
       " 'the desired level of accuracy on the training data. Some real-life examples are: ',\n",
       " '•  Image Classification: You train with images/labels. Then in the ',\n",
       " 'future you give a new image expecting that the computer will ',\n",
       " 'recognize the new object. ',\n",
       " '•  Market Prediction/Regression: You train the computer with ',\n",
       " 'historical market data and ask the computer to predict the new price ',\n",
       " 'in the future. ',\n",
       " '•  Unsupervised learning: No labels are given to the learning algorithm, leaving it ',\n",
       " 'on its own to find structure in its input. It is used for clustering population in ',\n",
       " 'different groups. Unsupervised learning can be a goal in itself (discovering hidden ',\n",
       " 'patterns in data). ',\n",
       " '•  Clustering: You ask the computer to separate similar data into ',\n",
       " 'clusters, this is essential in research and science. ',\n",
       " '•  High Dimension Visualization: Use the computer to help us ',\n",
       " 'visualize high dimension data. ',\n",
       " '•  Generative Models: After a model captures the probability ',\n",
       " 'distribution of your input data, it will be able to generate more data. ',\n",
       " 'This can be very useful to make your classifier more robust. ',\n",
       " 'A simple diagram which clears the concept of supervised and unsupervised learning is ',\n",
       " 'shown below: ',\n",
       " 'As you can see clearly, the data in supervised learning is labelled, where as data in ',\n",
       " 'unsupervised learning is unlabelled. ',\n",
       " '•  Semi-supervised learning: Problems where you have a large amount of ',\n",
       " 'input data and only some of the data is labeled, are called semi-supervised ',\n",
       " 'learning problems. These problems sit in between both supervised and ']"
      ]
     },
     "execution_count": 9,
     "metadata": {},
     "output_type": "execute_result"
    }
   ],
   "source": [
    "lines = text.split('\\n')\n",
    "lines"
   ]
  },
  {
   "cell_type": "code",
   "execution_count": 12,
   "metadata": {},
   "outputs": [
    {
     "data": {
      "text/plain": [
       "['Machine Learning ',\n",
       " '  ',\n",
       " 'Machine Learning is the field of study that gives computers the capability to learn ',\n",
       " 'without being explicitly programmed. ML is one of the most exciting technologies that one ',\n",
       " 'would have ever come across. As it is evident from the name, it gives the computer that ',\n",
       " 'makes it more similar to humans: The ability to learn. Machine learning is actively being ',\n",
       " 'used today, perhaps in many more places than one would expect. ',\n",
       " 'Getting started with Machine Learning ',\n",
       " 'Last Updated: 11-05-2020 ',\n",
       " 'This article discusses the categories of machine learning problems, and terminologies ',\n",
       " 'used in the field of machine learning. ',\n",
       " 'Types of machine learning problems ',\n",
       " 'There are various ways to classify machine learning problems. Here, we discuss the most ',\n",
       " 'obvious ones. ',\n",
       " '1. On basis of the nature of the learning “signal” or “feedback” available to a ',\n",
       " 'learning system ',\n",
       " '•  Supervised learning: The computer is presented with example inputs and their ',\n",
       " 'desired outputs, given by a “teacher”, and the goal is to learn a general rule that ',\n",
       " 'maps inputs to outputs. The training process continues until the model achieves ',\n",
       " 'the desired level of accuracy on the training data. Some real-life examples are: ',\n",
       " '•  Image Classification: You train with images/labels. Then in the ',\n",
       " 'future you give a new image expecting that the computer will ',\n",
       " 'recognize the new object. ',\n",
       " '•  Market Prediction/Regression: You train the computer with ',\n",
       " 'historical market data and ask the computer to predict the new price ',\n",
       " 'in the future. ',\n",
       " '•  Unsupervised learning: No labels are given to the learning algorithm, leaving it ',\n",
       " 'on its own to find structure in its input. It is used for clustering population in ',\n",
       " 'different groups. Unsupervised learning can be a goal in itself (discovering hidden ',\n",
       " 'patterns in data). ',\n",
       " '•  Clustering: You ask the computer to separate similar data into ',\n",
       " 'clusters, this is essential in research and science. ',\n",
       " '•  High Dimension Visualization: Use the computer to help us ',\n",
       " 'visualize high dimension data. ',\n",
       " '•  Generative Models: After a model captures the probability ',\n",
       " 'distribution of your input data, it will be able to generate more data. ',\n",
       " 'This can be very useful to make your classifier more robust. ',\n",
       " 'A simple diagram which clears the concept of supervised and unsupervised learning is ',\n",
       " 'shown below: ',\n",
       " 'As you can see clearly, the data in supervised learning is labelled, where as data in ',\n",
       " 'unsupervised learning is unlabelled. ',\n",
       " '•  Semi-supervised learning: Problems where you have a large amount of ',\n",
       " 'input data and only some of the data is labeled, are called semi-supervised ',\n",
       " 'learning problems. These problems sit in between both supervised and ']"
      ]
     },
     "execution_count": 12,
     "metadata": {},
     "output_type": "execute_result"
    }
   ],
   "source": [
    "#If you want to clean the text more further [OPTIONAL]:\n",
    "\n",
    "import re\n",
    "amt_re = re.compile(r'\\.\\d\\d$')\n",
    "\n",
    "subt = 0\n",
    "\n",
    "for line in lines:\n",
    "    if 'SUBTOTAL' in line:\n",
    "        break\n",
    "    if amt_re.search(line):\n",
    "        subt += float(line.split()[-1].replace(',', '').replace('$', ''))\n",
    "lines"
   ]
  },
  {
   "cell_type": "code",
   "execution_count": 39,
   "metadata": {},
   "outputs": [],
   "source": [
    "# to Get Text Data from all Pages from the pdfs:\n",
    "import os\n",
    "import requests\n",
    "import pdfplumber\n",
    "\n",
    "sample_pdf=r\"D:\\Hackoff Mod\\Machine Learning.pdf\"\n",
    "\n",
    "def get_text_ocr_pdf(path):\n",
    "    path=sample_pdf\n",
    "    with pdfplumber.open(path) as pdf:\n",
    "        for i in pdf.pages:\n",
    "            page = i.extract_text()\n",
    "            print(page)\n"
   ]
  },
  {
   "cell_type": "code",
   "execution_count": 40,
   "metadata": {},
   "outputs": [
    {
     "name": "stdout",
     "output_type": "stream",
     "text": [
      "Machine Learning \n",
      "  \n",
      "Machine Learning is the field of study that gives computers the capability to learn \n",
      "without being explicitly programmed. ML is one of the most exciting technologies that one \n",
      "would have ever come across. As it is evident from the name, it gives the computer that \n",
      "makes it more similar to humans: The ability to learn. Machine learning is actively being \n",
      "used today, perhaps in many more places than one would expect. \n",
      "Getting started with Machine Learning \n",
      "Last Updated: 11-05-2020 \n",
      "This article discusses the categories of machine learning problems, and terminologies \n",
      "used in the field of machine learning. \n",
      "Types of machine learning problems \n",
      "There are various ways to classify machine learning problems. Here, we discuss the most \n",
      "obvious ones. \n",
      "1. On basis of the nature of the learning “signal” or “feedback” available to a \n",
      "learning system \n",
      "•  Supervised learning: The computer is presented with example inputs and their \n",
      "desired outputs, given by a “teacher”, and the goal is to learn a general rule that \n",
      "maps inputs to outputs. The training process continues until the model achieves \n",
      "the desired level of accuracy on the training data. Some real-life examples are: \n",
      "•  Image Classification: You train with images/labels. Then in the \n",
      "future you give a new image expecting that the computer will \n",
      "recognize the new object. \n",
      "•  Market Prediction/Regression: You train the computer with \n",
      "historical market data and ask the computer to predict the new price \n",
      "in the future. \n",
      "•  Unsupervised learning: No labels are given to the learning algorithm, leaving it \n",
      "on its own to find structure in its input. It is used for clustering population in \n",
      "different groups. Unsupervised learning can be a goal in itself (discovering hidden \n",
      "patterns in data). \n",
      "•  Clustering: You ask the computer to separate similar data into \n",
      "clusters, this is essential in research and science. \n",
      "•  High Dimension Visualization: Use the computer to help us \n",
      "visualize high dimension data. \n",
      "•  Generative Models: After a model captures the probability \n",
      "distribution of your input data, it will be able to generate more data. \n",
      "This can be very useful to make your classifier more robust. \n",
      "A simple diagram which clears the concept of supervised and unsupervised learning is \n",
      "shown below: \n",
      "As you can see clearly, the data in supervised learning is labelled, where as data in \n",
      "unsupervised learning is unlabelled. \n",
      "•  Semi-supervised learning: Problems where you have a large amount of \n",
      "input data and only some of the data is labeled, are called semi-supervised \n",
      "learning problems. These problems sit in between both supervised and \n",
      "unsupervised learning. For example, a photo archive where only some of \n",
      "the images are labeled, (e.g. dog, cat, person) and the majority are \n",
      "unlabeled. \n",
      "•  Reinforcement learning: A computer program interacts with a dynamic \n",
      "environment in which it must perform a certain goal (such as driving a \n",
      "vehicle or playing a game against an opponent). The program is provided \n",
      "feedback in terms of rewards and punishments as it navigates its problem \n",
      "space. \n",
      " \n"
     ]
    }
   ],
   "source": [
    "get_text_ocr_pdf(sample_pdf)"
   ]
  },
  {
   "cell_type": "markdown",
   "metadata": {},
   "source": [
    "### Function Calling :"
   ]
  },
  {
   "cell_type": "code",
   "execution_count": 47,
   "metadata": {},
   "outputs": [],
   "source": [
    "from Scripts_Tryouts.extract_text_from_pdf import get_text_ocr_pdf"
   ]
  },
  {
   "cell_type": "code",
   "execution_count": 48,
   "metadata": {},
   "outputs": [
    {
     "name": "stdout",
     "output_type": "stream",
     "text": [
      "Machine Learning \n",
      "  \n",
      "Machine Learning is the field of study that gives computers the capability to learn \n",
      "without being explicitly programmed. ML is one of the most exciting technologies that one \n",
      "would have ever come across. As it is evident from the name, it gives the computer that \n",
      "makes it more similar to humans: The ability to learn. Machine learning is actively being \n",
      "used today, perhaps in many more places than one would expect. \n",
      "Getting started with Machine Learning \n",
      "Last Updated: 11-05-2020 \n",
      "This article discusses the categories of machine learning problems, and terminologies \n",
      "used in the field of machine learning. \n",
      "Types of machine learning problems \n",
      "There are various ways to classify machine learning problems. Here, we discuss the most \n",
      "obvious ones. \n",
      "1. On basis of the nature of the learning “signal” or “feedback” available to a \n",
      "learning system \n",
      "•  Supervised learning: The computer is presented with example inputs and their \n",
      "desired outputs, given by a “teacher”, and the goal is to learn a general rule that \n",
      "maps inputs to outputs. The training process continues until the model achieves \n",
      "the desired level of accuracy on the training data. Some real-life examples are: \n",
      "•  Image Classification: You train with images/labels. Then in the \n",
      "future you give a new image expecting that the computer will \n",
      "recognize the new object. \n",
      "•  Market Prediction/Regression: You train the computer with \n",
      "historical market data and ask the computer to predict the new price \n",
      "in the future. \n",
      "•  Unsupervised learning: No labels are given to the learning algorithm, leaving it \n",
      "on its own to find structure in its input. It is used for clustering population in \n",
      "different groups. Unsupervised learning can be a goal in itself (discovering hidden \n",
      "patterns in data). \n",
      "•  Clustering: You ask the computer to separate similar data into \n",
      "clusters, this is essential in research and science. \n",
      "•  High Dimension Visualization: Use the computer to help us \n",
      "visualize high dimension data. \n",
      "•  Generative Models: After a model captures the probability \n",
      "distribution of your input data, it will be able to generate more data. \n",
      "This can be very useful to make your classifier more robust. \n",
      "A simple diagram which clears the concept of supervised and unsupervised learning is \n",
      "shown below: \n",
      "As you can see clearly, the data in supervised learning is labelled, where as data in \n",
      "unsupervised learning is unlabelled. \n",
      "•  Semi-supervised learning: Problems where you have a large amount of \n",
      "input data and only some of the data is labeled, are called semi-supervised \n",
      "learning problems. These problems sit in between both supervised and \n",
      "unsupervised learning. For example, a photo archive where only some of \n",
      "the images are labeled, (e.g. dog, cat, person) and the majority are \n",
      "unlabeled. \n",
      "•  Reinforcement learning: A computer program interacts with a dynamic \n",
      "environment in which it must perform a certain goal (such as driving a \n",
      "vehicle or playing a game against an opponent). The program is provided \n",
      "feedback in terms of rewards and punishments as it navigates its problem \n",
      "space. \n",
      " \n"
     ]
    }
   ],
   "source": [
    "path=r\"D:\\Hackoff Mod\\Machine Learning.pdf\"\n",
    "get_text_ocr_pdf(path)"
   ]
  },
  {
   "cell_type": "code",
   "execution_count": null,
   "metadata": {},
   "outputs": [],
   "source": []
  },
  {
   "cell_type": "code",
   "execution_count": null,
   "metadata": {},
   "outputs": [],
   "source": []
  }
 ],
 "metadata": {
  "kernelspec": {
   "display_name": "Python 3",
   "language": "python",
   "name": "python3"
  },
  "language_info": {
   "codemirror_mode": {
    "name": "ipython",
    "version": 3
   },
   "file_extension": ".py",
   "mimetype": "text/x-python",
   "name": "python",
   "nbconvert_exporter": "python",
   "pygments_lexer": "ipython3",
   "version": "3.8.5"
  }
 },
 "nbformat": 4,
 "nbformat_minor": 4
}
