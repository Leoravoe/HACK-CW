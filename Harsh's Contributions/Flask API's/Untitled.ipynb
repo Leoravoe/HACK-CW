{
 "cells": [
  {
   "cell_type": "code",
   "execution_count": 5,
   "metadata": {},
   "outputs": [],
   "source": [
    "import extract_text_from_pdf\n",
    "import summarise"
   ]
  },
  {
   "cell_type": "code",
   "execution_count": 6,
   "metadata": {},
   "outputs": [],
   "source": [
    "from extract_text_from_pdf import get_text_ocr_pdf\n",
    "from summarise import top_sentence"
   ]
  },
  {
   "cell_type": "code",
   "execution_count": 3,
   "metadata": {},
   "outputs": [],
   "source": [
    "path=r'D:\\Hackoff Mod\\Machine Learning.pdf'"
   ]
  },
  {
   "cell_type": "code",
   "execution_count": 4,
   "metadata": {},
   "outputs": [
    {
     "data": {
      "text/plain": [
       "'Machine Learning   Machine Learning is the field of study that gives computers the capability to learn without being explicitly programmed. ML is one of the most exciting technologies that one would have ever come across. As it is evident from the name, it gives the computer that makes it more similar to humans: The ability to learn. Machine learning is actively being used today, perhaps in many more places than one would expect. Getting started with Machine Learning Last Updated: 11-05-2020 This article discusses the categories of machine learning problems, and terminologies used in the field of machine learning. Types of machine learning problems There are various ways to classify machine learning problems. Here, we discuss the most obvious ones. 1. On basis of the nature of the learning “signal” or “feedback” available to a learning system •  Supervised learning: The computer is presented with example inputs and their desired outputs, given by a “teacher”, and the goal is to learn a general rule that maps inputs to outputs. The training process continues until the model achieves the desired level of accuracy on the training data. Some real-life examples are: •  Image Classification: You train with images/labels. Then in the future you give a new image expecting that the computer will recognize the new object. •  Market Prediction/Regression: You train the computer with historical market data and ask the computer to predict the new price in the future. •  Unsupervised learning: No labels are given to the learning algorithm, leaving it on its own to find structure in its input. It is used for clustering population in different groups. Unsupervised learning can be a goal in itself (discovering hidden patterns in data). •  Clustering: You ask the computer to separate similar data into clusters, this is essential in research and science. •  High Dimension Visualization: Use the computer to help us visualize high dimension data. •  Generative Models: After a model captures the probability distribution of your input data, it will be able to generate more data. This can be very useful to make your classifier more robust. A simple diagram which clears the concept of supervised and unsupervised learning is shown below: As you can see clearly, the data in supervised learning is labelled, where as data in unsupervised learning is unlabelled. •  Semi-supervised learning: Problems where you have a large amount of input data and only some of the data is labeled, are called semi-supervised learning problems. These problems sit in between both supervised and '"
      ]
     },
     "execution_count": 4,
     "metadata": {},
     "output_type": "execute_result"
    }
   ],
   "source": [
    "get_text_ocr_pdf(path)"
   ]
  },
  {
   "cell_type": "code",
   "execution_count": 11,
   "metadata": {},
   "outputs": [
    {
     "data": {
      "text/plain": [
       "'Machine learning machine learning is the field of study that gives computers the capability to learn without being explicitly programmed ml is one of the most exciting technologies that one would have ever come across as it is evident from the name it gives the computer that makes it more similar to humans the ability to learn machine learning is actively being used today perhaps in many more places than one would expect getting started with machine learning last updated this article discusses the categories of machine learning problems and terminologies used in the field of machine learning types of machine learning problems there are various ways to classify machine learning problems here we discuss the most obvious ones on basis of the nature of the learning signal or feedback available to a learning system supervised learning the computer is presented with example inputs and their desired outputs given by a teacher and the goal is to learn a general rule that maps inputs to outputs the training process continues until the model achieves the desired level of accuracy on the training data'"
      ]
     },
     "execution_count": 11,
     "metadata": {},
     "output_type": "execute_result"
    }
   ],
   "source": [
    "top_sentence(get_text_ocr_pdf(path),1)"
   ]
  },
  {
   "cell_type": "code",
   "execution_count": 1,
   "metadata": {},
   "outputs": [
    {
     "name": "stderr",
     "output_type": "stream",
     "text": [
      "[nltk_data] Downloading package punkt to\n",
      "[nltk_data]     C:\\Users\\Harsh\\AppData\\Roaming\\nltk_data...\n",
      "[nltk_data]   Package punkt is already up-to-date!\n"
     ]
    }
   ],
   "source": [
    "import get_similarity"
   ]
  },
  {
   "cell_type": "code",
   "execution_count": 2,
   "metadata": {},
   "outputs": [],
   "source": [
    "from get_similarity import get_similarity_score"
   ]
  },
  {
   "cell_type": "code",
   "execution_count": 3,
   "metadata": {},
   "outputs": [],
   "source": [
    "act=r'ak.pdf'\n",
    "que=r'ar-1.pdf'"
   ]
  },
  {
   "cell_type": "code",
   "execution_count": 4,
   "metadata": {},
   "outputs": [
    {
     "data": {
      "text/plain": [
       "' Corupus Similarity Ratio:0.0%'"
      ]
     },
     "execution_count": 4,
     "metadata": {},
     "output_type": "execute_result"
    }
   ],
   "source": [
    "get_similarity_score(act,que)"
   ]
  },
  {
   "cell_type": "code",
   "execution_count": 7,
   "metadata": {},
   "outputs": [
    {
     "name": "stderr",
     "output_type": "stream",
     "text": [
      "[nltk_data] Downloading package punkt to\n",
      "[nltk_data]     C:\\Users\\Harsh\\AppData\\Roaming\\nltk_data...\n",
      "[nltk_data]   Package punkt is already up-to-date!\n"
     ]
    }
   ],
   "source": [
    "from nltk import word_tokenize          \n",
    "from nltk.stem import WordNetLemmatizer\n",
    "\n",
    "import os\n",
    "from sklearn.feature_extraction.text import TfidfVectorizer\n",
    "from sklearn.metrics.pairwise import linear_kernel\n",
    "import numpy as np\n",
    "import nltk\n",
    "from nltk.corpus import stopwords\n",
    "\n",
    "nltk.download('punkt')\n",
    "stop_words = set(stopwords.words('english'))\n",
    "\n",
    "def get_sis(actual,query):\n",
    "    class LemmaTokenizer:\n",
    "        \n",
    "   \n",
    "        ignore_tokens = [',', '.', ';', ':', '\"', '``', \"''\", '`']\n",
    "        def __init__(self):\n",
    "            self.wnl = WordNetLemmatizer()\n",
    "        def __call__(self, doc):\n",
    "            return [self.wnl.lemmatize(t) for t in word_tokenize(doc) if t not in self.ignore_tokens]\n",
    "\n",
    "    tokenizer=LemmaTokenizer()\n",
    "    \n",
    "    tokens=str(actual)\n",
    "    #tokenizer(tokens)\n",
    "    \n",
    "    documents=tokens\n",
    "    search_terms = str(query)\n",
    "    # search_terms = 'sewing machine'\n",
    "\n",
    "    # Initialise TfidfVectorizer with the LemmaTokenizer. Also need to lemmatize the stop words as well\n",
    "    token_stop = tokenizer(' '.join(stop_words))\n",
    "    vectorizer = TfidfVectorizer(stop_words=token_stop, tokenizer=tokenizer)\n",
    "\n",
    "    # Calculate the word frequency, and calculate the cosine similarity of the search terms to the documents\n",
    "\n",
    "    \n",
    "        \n",
    "    vectors = vectorizer.fit_transform([search_terms] + [documents])\n",
    "    cosine_similarities = linear_kernel(vectors[0:1], vectors).flatten()\n",
    "    document_scores = [item.item() for item in cosine_similarities[1:]]  # convert back to native Python dtypes\n",
    "\n",
    "    scores = [(score) for score in zip(document_scores)]\n",
    "    perc_scores=scores[0][0]*100\n",
    "    res=\" Corupus Similarity Ratio:\" + str(perc_scores,)+\"%\"\n",
    "\n",
    "    return res"
   ]
  },
  {
   "cell_type": "code",
   "execution_count": 8,
   "metadata": {},
   "outputs": [
    {
     "data": {
      "text/plain": [
       "' Corupus Similarity Ratio:0.0%'"
      ]
     },
     "execution_count": 8,
     "metadata": {},
     "output_type": "execute_result"
    }
   ],
   "source": [
    "get_sis(act,que)"
   ]
  },
  {
   "cell_type": "code",
   "execution_count": null,
   "metadata": {},
   "outputs": [],
   "source": []
  }
 ],
 "metadata": {
  "kernelspec": {
   "display_name": "Python 3",
   "language": "python",
   "name": "python3"
  },
  "language_info": {
   "codemirror_mode": {
    "name": "ipython",
    "version": 3
   },
   "file_extension": ".py",
   "mimetype": "text/x-python",
   "name": "python",
   "nbconvert_exporter": "python",
   "pygments_lexer": "ipython3",
   "version": "3.8.5"
  }
 },
 "nbformat": 4,
 "nbformat_minor": 4
}
